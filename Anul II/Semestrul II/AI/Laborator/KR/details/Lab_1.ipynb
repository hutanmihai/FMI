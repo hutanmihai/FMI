{
 "nbformat": 4,
 "nbformat_minor": 0,
 "metadata": {
  "colab": {
   "provenance": []
  },
  "kernelspec": {
   "name": "python3",
   "language": "python",
   "display_name": "Python 3 (ipykernel)"
  },
  "language_info": {
   "name": "python"
  }
 },
 "cells": [
  {
   "cell_type": "markdown",
   "source": [
    "# Test grilă"
   ],
   "metadata": {
    "id": "BKhngjv_Kcci"
   }
  },
  {
   "cell_type": "markdown",
   "source": [
    "Link: https://forms.office.com/e/gC4AW0Ez7E"
   ],
   "metadata": {
    "id": "dQecWJCGKYse"
   }
  },
  {
   "cell_type": "markdown",
   "source": [
    "# Exerciții"
   ],
   "metadata": {
    "id": "6GSiaZmx7edP"
   }
  },
  {
   "cell_type": "markdown",
   "source": [
    "Upload soluții: https://forms.gle/SgvCpNUBKzfMg2pT6"
   ],
   "metadata": {
    "id": "b6DuJfw2wdIg"
   }
  },
  {
   "cell_type": "markdown",
   "source": [
    "_Observație:_ Structura claselor de mai jos este doar o sugestie. Puteți propune / lucra cu orice variație a acestei structuri cât timp respectați principiile POO și aveți echivalențe pentru toate funcțiile cerute. Nu se acceptă echivalențe pentru operatori sau metode _built-in_."
   ],
   "metadata": {
    "id": "NQKd3Zi7RxeH"
   }
  },
  {
   "cell_type": "markdown",
   "source": [],
   "metadata": {
    "collapsed": false
   }
  },
  {
   "cell_type": "markdown",
   "source": [
    "## 1. Clasele Graf & Nod\n",
    "---"
   ],
   "metadata": {
    "id": "LcEkUWdAVx0q"
   }
  },
  {
   "cell_type": "markdown",
   "source": [
    "Definiți o clasă Nod, care va reprezenta un nod dintr-un arbore de parcurgere, cu câmpurile: \n",
    "* informație - parametru cu tip oarecare;\n",
    "* părinte - obiect de tip Nod;\n",
    "* succesori - listă de obiecte de tip Nod.\n",
    "\n",
    "Implementați următoarele metode _built-in_:\n",
    "* constructor - definiți valoarea implicită a părintelui \"None\";\n",
    "* transformarea în obiect de tip string a informației nodului curent;\n",
    "* transformarea în obiect de tip string a informației elementelor dintr-o listă. Fiecare element va avea forma \"c (a -> b -> c)\", unde c e informația nodului curent, iar a, b și c sunt informațiile nodurilor din drumul de la rădăcina _a_ către el.\n",
    "\n",
    "Implementați următoarele funcții:\n",
    "* *drumRadacina()* - care va returna o listă cu toate nodurile ca obiecte (nu informația nodurilor) de la rădăcină până la nodul curent;\n",
    "* *vizitat()* - care verifică dacă nodul a fost vizitat pe drumul curent (nu în tot arborele). Așadar, dacă informația se mai găsește în drumul de dinaintea nodului curent, returnăm True. altfel False."
   ],
   "metadata": {
    "id": "VDn0YCq07izA"
   }
  },
  {
   "cell_type": "code",
   "source": [
    "# nod din arborele de parcurgere\n",
    "class Node:\n",
    "    def __init__(self, info, parent=None):\n",
    "        self.info = info\n",
    "        self.parent = parent\n",
    "\n",
    "    def __str__(self):\n",
    "        return \"a={} b={}\".format(self.info, self.parent)\n",
    "\n",
    "    def __repr__(self):\n",
    "        return \"({}, {})\".format(self.info, self.parent)\n",
    "\n",
    "    def path_root(self):\n",
    "        \"\"\"\n",
    "        :return: List of nodes as Node objects from root to current node.\n",
    "        \"\"\"\n",
    "        node = self\n",
    "        path = []\n",
    "        while node is not None:\n",
    "            path.insert(0, node)\n",
    "            node = node.parent\n",
    "        return path\n",
    "\n",
    "    def visited(self):\n",
    "        \"\"\"\n",
    "        :return: True if the node has been visited on the current path, False otherwise.\n",
    "        \"\"\"\n",
    "        node = self\n",
    "        while node.parent is not None:\n",
    "            if node.info == node.parent.info:\n",
    "                return True\n",
    "            node = node.parent\n",
    "        return False\n",
    "\n",
    "    def __repr__(self):\n",
    "        return \"{} ({})\".format(\n",
    "            self.info, \"->\".join([str(x) for x in self.path_root()])\n",
    "        )\n",
    "\n",
    "    def __str__(self):\n",
    "        return str(self.info)"
   ],
   "metadata": {
    "id": "2KKHTopFV8nq",
    "ExecuteTime": {
     "start_time": "2023-04-26T08:16:22.450299Z",
     "end_time": "2023-04-26T08:16:22.455518Z"
    }
   },
   "execution_count": 1,
   "outputs": []
  },
  {
   "cell_type": "markdown",
   "source": [
    "Definiți o clasă Graf, care va reprezenta un graf orientat ponderat, cu câmpurile:\n",
    "* nodStart - rădăcina arborelui\n",
    "* noduriScop - lista nodurilor scop\n",
    "* muchii - metodă la alegere din: listă de vecini, matrice de adiacența, listă de noduri și muchii etc.\n",
    "\n",
    "Implementați constructorul clasei și următoarele funcții:\n",
    "* *scop(nod)* - primește informația unui nod și verifică dacă e nod scop\n",
    "* *succesori(nod)* - primește un nod al arborelui de parcurgere și returnează lista succesorilor direcți ai nodului care nu au fost vizitați pe ramura curentă. Această metodă va fi folosită în algoritmii pentru generarea arborelui de căutare."
   ],
   "metadata": {
    "id": "N0TRBZIf8Caf"
   }
  },
  {
   "cell_type": "code",
   "source": [
    "class Graph:\n",
    "    def __init__(self, matrix, start, scopes):\n",
    "        self.matrix = matrix\n",
    "        self.start = start\n",
    "        self.scopes = scopes\n",
    "\n",
    "    def scope(self, info_node):\n",
    "        return info_node in self.scopes\n",
    "\n",
    "    def succesors(self, node):\n",
    "        list_succesors = []\n",
    "        for i in range(len(self.matrix[node.info])):\n",
    "            if self.matrix[node.info][i] == 1:\n",
    "                new_node = Node(i, node)\n",
    "                if not new_node.visited():\n",
    "                    list_succesors.append(new_node)\n",
    "        return list_succesors"
   ],
   "metadata": {
    "id": "Nhsk4x2Eopwb",
    "ExecuteTime": {
     "start_time": "2023-04-26T08:16:22.457668Z",
     "end_time": "2023-04-26T08:16:22.459413Z"
    }
   },
   "execution_count": 2,
   "outputs": []
  },
  {
   "cell_type": "markdown",
   "source": [
    "## 2. BFS (Breadth-First Search)\n",
    "\n",
    "---"
   ],
   "metadata": {
    "id": "52R2S2A9VN0S"
   }
  },
  {
   "cell_type": "markdown",
   "source": [
    "Implementați tehnica de căutare BFS pentru un element de tip Graf definit ca mai sus. Se va citi de la tastatură un număr n și se vor afișa doar primele n soluții ale algoritmului.\n",
    "\n",
    "_Observație:_ Considerați pseudocodul din fișierul de teorie."
   ],
   "metadata": {
    "id": "jWbuEU7H8Kon"
   }
  },
  {
   "cell_type": "code",
   "source": [
    "def bfs(graph, number_of_solutions):\n",
    "    queue = [Node(graph.start)]\n",
    "\n",
    "    while queue:\n",
    "        current_node = queue.pop(0)\n",
    "        if graph.scope(current_node.info):\n",
    "            print(repr(current_node))\n",
    "            number_of_solutions -= 1\n",
    "            if not number_of_solutions:\n",
    "                return\n",
    "        list_succesors = graph.succesors(current_node)\n",
    "        queue += list_succesors"
   ],
   "metadata": {
    "id": "QY6srWVqxWRd",
    "ExecuteTime": {
     "start_time": "2023-04-26T08:16:22.461593Z",
     "end_time": "2023-04-26T08:16:22.463302Z"
    }
   },
   "execution_count": 3,
   "outputs": []
  },
  {
   "cell_type": "markdown",
   "source": [
    "## 3. DFS (Depth-First Search) $-$ recursiv\n",
    "\n",
    "---"
   ],
   "metadata": {
    "id": "-HE-wtRuVXeV"
   }
  },
  {
   "cell_type": "markdown",
   "source": [
    "Implementați tehnica de căutare DFS recursiv pentru un element de tip Graf definit ca mai sus. Se va citi de la tastatură un număr n și se vor afișa doar primele n soluții.\n",
    "\n",
    "_Observație:_ Considerați pseudocodul din fișierul de teorie."
   ],
   "metadata": {
    "id": "u9gBU73B8Uuh"
   }
  },
  {
   "cell_type": "code",
   "source": [
    "def dfs(graph, node, visited, n, solutions):\n",
    "    visited.add(node.info)\n",
    "\n",
    "    if graph.scope(node.info):\n",
    "        solutions.append(node)\n",
    "        if len(solutions) == n:\n",
    "            return\n",
    "\n",
    "    list_succesors = graph.succesors(node)\n",
    "    for successor in list_succesors:\n",
    "        if successor.info not in visited and len(solutions) < n:\n",
    "            dfs(graph, successor, visited, n, solutions)"
   ],
   "metadata": {
    "id": "otbNC1l5zzOC",
    "ExecuteTime": {
     "start_time": "2023-04-26T08:16:22.465696Z",
     "end_time": "2023-04-26T08:16:22.467267Z"
    }
   },
   "execution_count": 4,
   "outputs": []
  },
  {
   "cell_type": "markdown",
   "source": [
    "# Testare BFS si DFS"
   ],
   "metadata": {
    "collapsed": false
   }
  },
  {
   "cell_type": "code",
   "execution_count": 5,
   "outputs": [
    {
     "name": "stdout",
     "output_type": "stream",
     "text": [
      "BFS:\n",
      "5 (0->1->5)\n",
      "5 (0->1->2->5)\n",
      "9 (0->4->7->9)\n",
      "--------------------\n",
      "DFS:\n",
      "5 (0->1->2->5)\n",
      "9 (0->1->2->7->9)\n"
     ]
    }
   ],
   "source": [
    "m = [\n",
    "    [0, 1, 0, 1, 1, 0, 0, 0, 0, 0],\n",
    "    [1, 0, 1, 0, 0, 1, 0, 0, 0, 0],\n",
    "    [0, 1, 0, 0, 0, 1, 0, 1, 0, 0],\n",
    "    [1, 0, 0, 0, 0, 0, 1, 0, 0, 0],\n",
    "    [1, 0, 0, 0, 0, 0, 0, 1, 0, 0],\n",
    "    [0, 1, 1, 0, 0, 0, 0, 0, 0, 0],\n",
    "    [0, 0, 0, 1, 0, 0, 0, 0, 0, 0],\n",
    "    [0, 0, 1, 0, 1, 0, 0, 0, 1, 1],\n",
    "    [0, 0, 0, 0, 0, 0, 0, 1, 0, 0],\n",
    "    [0, 0, 0, 0, 0, 0, 0, 1, 0, 0],\n",
    "]\n",
    "\n",
    "start = 0\n",
    "scopes = [5, 9]\n",
    "\n",
    "graph = Graph(m, start, scopes)\n",
    "\n",
    "print(\"BFS:\")\n",
    "bfs(graph, 3)\n",
    "print(\"--------------------\")\n",
    "print(\"DFS:\")\n",
    "visited = set()\n",
    "solutions = []\n",
    "dfs(graph, Node(start), visited, 3, solutions)\n",
    "for solution in solutions:\n",
    "    print(repr(solution))"
   ],
   "metadata": {
    "collapsed": false,
    "ExecuteTime": {
     "start_time": "2023-04-26T08:16:22.472695Z",
     "end_time": "2023-04-26T08:16:22.475819Z"
    }
   }
  },
  {
   "cell_type": "markdown",
   "source": [
    "## 4. DFS (Depth-First Search) $-$ iterativ\n",
    "\n",
    "---"
   ],
   "metadata": {
    "id": "6meXHY88VYhU"
   }
  },
  {
   "cell_type": "markdown",
   "source": [
    "Implementați tehnica de căutare DFS iterativ pentru un element de tip Graf definit ca mai sus. Se va citi de la tastatură un număr n și se vor afișa doar primele n soluții.\n",
    "\n",
    "_Observație:_ Considerați pseudocodul din fișierul de teorie."
   ],
   "metadata": {
    "id": "2lacKPoR8WMS"
   }
  },
  {
   "cell_type": "code",
   "source": [
    "def dfs(graph, number_of_solutions):\n",
    "    visited = set()\n",
    "    stack = [Node(graph.start)]\n",
    "\n",
    "    while stack:\n",
    "        node = stack.pop()\n",
    "        visited.add(node.info)\n",
    "\n",
    "        if graph.scope(node.info):\n",
    "            print(repr(node))\n",
    "            number_of_solutions -= 1\n",
    "            if not number_of_solutions:\n",
    "                return\n",
    "\n",
    "        list_succesors = graph.succesors(node)\n",
    "        for successor in list_succesors:\n",
    "            if successor.info not in visited:\n",
    "                stack.append(successor)"
   ],
   "metadata": {
    "id": "tzkSuo8C2TG6",
    "ExecuteTime": {
     "start_time": "2023-04-26T08:16:22.476992Z",
     "end_time": "2023-04-26T08:16:22.478909Z"
    }
   },
   "execution_count": 6,
   "outputs": []
  },
  {
   "cell_type": "markdown",
   "source": [
    "## Ajutor\n",
    "\n",
    "---"
   ],
   "metadata": {
    "id": "2r0-Hutzq1Pw"
   }
  },
  {
   "cell_type": "markdown",
   "source": [
    "Acest graf este doar un exemplu dacă nu aveți inspirație. Recomand testarea funcțiilor pe un subarbore al lui.\n",
    "\n",
    "Index:\n",
    "* nodStart - nodul 0 (galben)\n",
    "* noduriScop - [4, 6] (mov)\n",
    "* informațiile din cercuri - informația fiecărui nod\n",
    "* informațiile de pe muchii - costul drumurilor\n",
    "* informațiile din pătrate - irelevante pe moment"
   ],
   "metadata": {
    "id": "ovljNi9Sph69"
   }
  },
  {
   "cell_type": "markdown",
   "source": [
    "![Graf.png](data:image/png;base64,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)\n"
   ],
   "metadata": {
    "id": "-5_QUyqrpgMj"
   }
  }
 ]
}
