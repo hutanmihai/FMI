{
 "cells": [
  {
   "cell_type": "code",
   "execution_count": 1,
   "metadata": {
    "collapsed": true
   },
   "outputs": [],
   "source": [
    "import numpy as np"
   ]
  },
  {
   "cell_type": "code",
   "execution_count": 2,
   "metadata": {},
   "outputs": [],
   "source": [
    "test_data = np.load('lab4_data/test_sentences.npy', allow_pickle=True)\n",
    "test_labels = np.load('lab4_data/test_labels.npy', allow_pickle=True)\n",
    "\n",
    "train_data = np.load('lab4_data/training_sentences.npy', allow_pickle=True)\n",
    "train_labels = np.load('lab4_data/training_labels.npy', allow_pickle=True)"
   ]
  },
  {
   "cell_type": "code",
   "execution_count": 3,
   "metadata": {},
   "outputs": [],
   "source": [
    "def normalize_data(train_data, test_data, type=None):\n",
    "    if type == 'standard':\n",
    "        medie_train = np.mean(train_data, axis=0)\n",
    "        deviatie_train = np.std(train_data, axis=0)\n",
    "        norm_train_data = (train_data - medie_train) / deviatie_train\n",
    "\n",
    "        # Intotdeauna antrenam pe train si testam pe test !!!\n",
    "        norm_test_data = test_data\n",
    "    elif type == 'l1':\n",
    "        norm_train = np.sum(np.abs(train_data), axis=1, keepdis=True) + 10 ** -8\n",
    "        norm_train_data = train_data / norm_train\n",
    "        norm_test = np.sum(np.abs(test_data), axis=1, keepdims=True) + 10 ** -8\n",
    "        norm_test_data = test_data / norm_test\n",
    "    elif type == 'l2':\n",
    "        norm_train = np.sqrt(np.sum(train_data ** 2, axis=1, keepdims=True)) + 10 ** -8\n",
    "        norm_train_data = train_data / norm_train\n",
    "        norm_test = np.sum(np.abs(test_data ** 2), axis=1, keepdims=True) + 10 ** -8\n",
    "        norm_test_data = test_data / norm_test\n",
    "    else:\n",
    "        raise ValueError('Invalid normalization type')\n",
    "\n",
    "    return norm_train_data, norm_test_data"
   ]
  },
  {
   "cell_type": "code",
   "execution_count": 4,
   "metadata": {},
   "outputs": [],
   "source": [
    "class BagOfWords:\n",
    "    def __init__(self):\n",
    "        self.vocabulary = {}\n",
    "        self.voc_len = 0\n",
    "        self.words = []\n",
    "\n",
    "    def build_vocabulary(self, data):\n",
    "        for sentence in data:\n",
    "            for word in sentence:\n",
    "                if word not in self.vocabulary:\n",
    "                    self.vocabulary[word] = len(self.vocabulary)\n",
    "                    self.words.append(word)\n",
    "            self.voc_len = len(self.vocabulary)\n",
    "\n",
    "    def get_features(self, data):\n",
    "        features = np.zeros((len(data), self.voc_len))\n",
    "\n",
    "        for id_sen, sentence in enumerate(data):\n",
    "            for word in sentence:\n",
    "                if word in self.vocabulary:\n",
    "                    features[id_sen, self.vocabulary[word]] += 1\n",
    "        return features"
   ]
  },
  {
   "cell_type": "code",
   "execution_count": 5,
   "metadata": {},
   "outputs": [],
   "source": [
    "bag_of_words = BagOfWords()\n",
    "bag_of_words.build_vocabulary(train_data)"
   ]
  },
  {
   "cell_type": "code",
   "execution_count": 6,
   "metadata": {},
   "outputs": [],
   "source": [
    "train_features = bag_of_words.get_features(train_data)\n",
    "\n",
    "test_features = bag_of_words.get_features(test_data)\n",
    "train_features_norm, test_features_norm = normalize_data(train_features, test_features, type='l2')"
   ]
  },
  {
   "cell_type": "code",
   "execution_count": null,
   "metadata": {},
   "outputs": [],
   "source": [
    "from sklearn import svm\n",
    "svm_model = svm.SVC(C=1, kernel='linear')\n",
    "svm_model.fit(train_features_norm, train_labels)\n"
   ]
  }
 ],
 "metadata": {
  "kernelspec": {
   "display_name": "Python 3 (ipykernel)",
   "language": "python",
   "name": "python3"
  },
  "language_info": {
   "codemirror_mode": {
    "name": "ipython",
    "version": 3
   },
   "file_extension": ".py",
   "mimetype": "text/x-python",
   "name": "python",
   "nbconvert_exporter": "python",
   "pygments_lexer": "ipython3",
   "version": "3.10.9"
  }
 },
 "nbformat": 4,
 "nbformat_minor": 1
}
