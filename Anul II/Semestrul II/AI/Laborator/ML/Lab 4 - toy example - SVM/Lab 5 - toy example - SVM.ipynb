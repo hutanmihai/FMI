{
 "cells": [
  {
   "cell_type": "markdown",
   "metadata": {},
   "source": [
    "### Toy Example -  SVM"
   ]
  },
  {
   "cell_type": "code",
   "execution_count": null,
   "metadata": {
    "pycharm": {
     "is_executing": true
    }
   },
   "outputs": [],
   "source": [
    "import numpy as np\n",
    "import matplotlib.pyplot as plt\n",
    "from sklearn import svm # import the library"
   ]
  },
  {
   "cell_type": "code",
   "execution_count": 2,
   "metadata": {},
   "outputs": [
    {
     "data": {
      "image/png": "[encoded data removed]",
      "text/plain": [
       "<Figure size 432x288 with 1 Axes>"
      ]
     },
     "metadata": {
      "needs_background": "light"
     },
     "output_type": "display_data"
    }
   ],
   "source": [
    "# load toy data\n",
    "training_data = np.load('data/svm_train_data.npy')\n",
    "training_labels = np.load('data/svm_train_labels.npy')\n",
    "\n",
    "# plot the data\n",
    "for i in range(training_data.shape[0]):\n",
    "    if training_labels[i] == 0:\n",
    "        plt.plot(training_data[i, 0], training_data[i, 1], 'og')\n",
    "    else:\n",
    "        plt.plot(training_data[i, 0], training_data[i, 1], 'xr')\n",
    "plt.show()"
   ]
  },
  {
   "cell_type": "code",
   "execution_count": null,
   "metadata": {
    "pycharm": {
     "is_executing": true
    }
   },
   "outputs": [],
   "source": [
    "# train a SVM model\n",
    "C_param = 100 # change this parameter to [0.01, 1, 10, 1000] and try to explain the effect of the parameter\n",
    "svm_model = svm.SVC(C_param, \"linear\") # define the model\n",
    "svm_model.fit(training_data, training_labels) # train\n",
    "predicted_labels_train = svm_model.predict(training_data) # predit\n",
    "\n",
    "X = np.linspace(-1, 1, 1000)\n",
    "Y = -(X * svm_model.coef_[0, 0] + svm_model.intercept_) / svm_model.coef_[0, 1]\n",
    "for i in range(training_data.shape[0]):\n",
    "    if training_labels[i] == 0:\n",
    "        plt.plot(training_data[i, 0], training_data[i,1],'og')\n",
    "    else:\n",
    "        plt.plot(training_data[i, 0], training_data[i, 1],'xr')\n",
    "        \n",
    "# plotting\n",
    "ax = plt.gca()\n",
    "xlim = ax.get_xlim()\n",
    "ylim = ax.get_ylim()\n",
    "xx = np.linspace(xlim[0], xlim[1], 30)\n",
    "yy = np.linspace(ylim[0], ylim[1], 30)\n",
    "YY, XX = np.meshgrid(yy, xx)\n",
    "xy = np.vstack([XX.ravel(), YY.ravel()]).T\n",
    "Z = svm_model.decision_function(xy).reshape(XX.shape)\n",
    "\n",
    "# plot decision boundary and margins\n",
    "ax.contour(XX, YY, Z, colors='k', levels=[-1, 0, 1], alpha=0.5,\n",
    "           linestyles=['--', '-', '--'])\n",
    "# plot support vectors\n",
    "ax.scatter(svm_model.support_vectors_[:, 0], svm_model.support_vectors_[:, 1], s=100,\n",
    "           linewidth=1, facecolors='none', edgecolors='k')        \n",
    "        \n",
    "plt.plot(X,Y) \n",
    "plt.show()\n"
   ]
  }
 ],
 "metadata": {
  "kernelspec": {
   "display_name": "tf2",
   "language": "python",
   "name": "tf2"
  },
  "language_info": {
   "codemirror_mode": {
    "name": "ipython",
    "version": 3
   },
   "file_extension": ".py",
   "mimetype": "text/x-python",
   "name": "python",
   "nbconvert_exporter": "python",
   "pygments_lexer": "ipython3",
   "version": "3.6.2"
  }
 },
 "nbformat": 4,
 "nbformat_minor": 2
}
