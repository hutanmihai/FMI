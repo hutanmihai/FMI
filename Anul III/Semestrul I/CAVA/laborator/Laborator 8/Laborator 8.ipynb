{
 "cells": [
  {
   "cell_type": "markdown",
   "id": "cef2cf12",
   "metadata": {},
   "source": [
    "## Clasificarea imaginilor folosind descriptori"
   ]
  },
  {
   "cell_type": "code",
   "execution_count": 1,
   "id": "2cd72e36",
   "metadata": {
    "ExecuteTime": {
     "end_time": "2023-11-22T07:27:27.379233Z",
     "start_time": "2023-11-22T07:27:26.744330Z"
    }
   },
   "outputs": [],
   "source": [
    "import glob\n",
    "import cv2 as cv\n",
    "import numpy as np\n",
    "from skimage.feature import hog\n",
    "from sklearn.svm import SVC, LinearSVC\n",
    "from sklearn.neighbors import KNeighborsClassifier\n",
    "from sklearn.metrics import confusion_matrix, accuracy_score\n",
    "from copy import deepcopy"
   ]
  },
  {
   "cell_type": "markdown",
   "id": "6911d785",
   "metadata": {},
   "source": [
    "### Incarcarea imaginilor de antrenare"
   ]
  },
  {
   "cell_type": "code",
   "execution_count": 2,
   "id": "64a37cb9",
   "metadata": {
    "ExecuteTime": {
     "end_time": "2023-11-22T07:27:27.383951Z",
     "start_time": "2023-11-22T07:27:27.380486Z"
    }
   },
   "outputs": [
    {
     "name": "stdout",
     "output_type": "stream",
     "text": [
      "['train/soccer_ball', 'train/yin_yang']\n"
     ]
    }
   ],
   "source": [
    "path = 'train/'\n",
    "folders = glob.glob(path + '*')\n",
    "print(folders)"
   ]
  },
  {
   "cell_type": "code",
   "execution_count": 3,
   "id": "89b5f814",
   "metadata": {
    "ExecuteTime": {
     "end_time": "2023-11-22T07:27:27.384937Z",
     "start_time": "2023-11-22T07:27:27.383200Z"
    }
   },
   "outputs": [],
   "source": [
    "train_images = []\n",
    "train_labels = []"
   ]
  },
  {
   "cell_type": "code",
   "execution_count": 4,
   "id": "96869efe",
   "metadata": {
    "ExecuteTime": {
     "end_time": "2023-11-22T07:27:27.431630Z",
     "start_time": "2023-11-22T07:27:27.386346Z"
    }
   },
   "outputs": [
    {
     "name": "stdout",
     "output_type": "stream",
     "text": [
      "soccer_ball\n",
      "yin_yang\n"
     ]
    }
   ],
   "source": [
    "for f in folders:\n",
    "    clas = f.replace(path, '')\n",
    "    print(clas)\n",
    "    files = glob.glob(f + '/*jpg')\n",
    "    for i in files:\n",
    "        image = cv.imread(i)\n",
    "        image = cv.resize(image, (300, 300), interpolation=cv.INTER_LINEAR)\n",
    "        img = np.asarray(image)\n",
    "        train_images.append(img)\n",
    "        train_labels.append(clas)\n",
    "train_images = np.array(train_images)\n",
    "train_labels = np.array(train_labels)"
   ]
  },
  {
   "cell_type": "code",
   "execution_count": 5,
   "id": "c975c8e1",
   "metadata": {
    "ExecuteTime": {
     "end_time": "2023-11-22T07:27:27.432464Z",
     "start_time": "2023-11-22T07:27:27.430252Z"
    }
   },
   "outputs": [
    {
     "name": "stdout",
     "output_type": "stream",
     "text": [
      "(94, 300, 300, 3)\n",
      "(94,)\n"
     ]
    }
   ],
   "source": [
    "print(train_images.shape)\n",
    "print(train_labels.shape)"
   ]
  },
  {
   "cell_type": "markdown",
   "id": "7170268c",
   "metadata": {},
   "source": [
    "### Incarcarea imaginilor de testare"
   ]
  },
  {
   "cell_type": "code",
   "execution_count": 6,
   "id": "313ce5ab",
   "metadata": {
    "ExecuteTime": {
     "end_time": "2023-11-22T07:27:27.437852Z",
     "start_time": "2023-11-22T07:27:27.432774Z"
    }
   },
   "outputs": [
    {
     "name": "stdout",
     "output_type": "stream",
     "text": [
      "['test/soccer_ball', 'test/yin_yang']\n"
     ]
    }
   ],
   "source": [
    "path = 'test/'\n",
    "folders = glob.glob(path + '*')\n",
    "print(folders)"
   ]
  },
  {
   "cell_type": "code",
   "execution_count": 7,
   "id": "fb913eda",
   "metadata": {
    "ExecuteTime": {
     "end_time": "2023-11-22T07:27:27.438108Z",
     "start_time": "2023-11-22T07:27:27.435261Z"
    }
   },
   "outputs": [],
   "source": [
    "test_images = []\n",
    "test_labels = []"
   ]
  },
  {
   "cell_type": "code",
   "execution_count": 8,
   "id": "207e18e5",
   "metadata": {
    "ExecuteTime": {
     "end_time": "2023-11-22T07:27:27.481919Z",
     "start_time": "2023-11-22T07:27:27.438277Z"
    }
   },
   "outputs": [
    {
     "name": "stdout",
     "output_type": "stream",
     "text": [
      "soccer_ball\n",
      "yin_yang\n"
     ]
    }
   ],
   "source": [
    "for f in folders:\n",
    "    clas = f.replace(path, '')\n",
    "    print(clas)\n",
    "    files = glob.glob(f + '/*jpg')\n",
    "    for i in files:\n",
    "        image = cv.imread(i)\n",
    "        image = cv.resize(image, (300, 300), interpolation=cv.INTER_LINEAR)\n",
    "        img = np.asarray(image)\n",
    "        test_images.append(img)\n",
    "        test_labels.append(clas)\n",
    "test_images = np.array(test_images)\n",
    "test_labels = np.array(test_labels)"
   ]
  },
  {
   "cell_type": "code",
   "execution_count": 9,
   "id": "a94595a3",
   "metadata": {
    "ExecuteTime": {
     "end_time": "2023-11-22T07:27:27.488190Z",
     "start_time": "2023-11-22T07:27:27.456044Z"
    }
   },
   "outputs": [
    {
     "name": "stdout",
     "output_type": "stream",
     "text": [
      "(30, 300, 300, 3)\n",
      "(30,)\n"
     ]
    }
   ],
   "source": [
    "print(test_images.shape)\n",
    "print(test_labels.shape)"
   ]
  },
  {
   "cell_type": "markdown",
   "id": "b5f4128d",
   "metadata": {},
   "source": [
    "### Diferite tipuri de descriptori"
   ]
  },
  {
   "cell_type": "code",
   "execution_count": 10,
   "id": "30b5b6e9",
   "metadata": {
    "ExecuteTime": {
     "end_time": "2023-11-22T07:27:27.488541Z",
     "start_time": "2023-11-22T07:27:27.458293Z"
    }
   },
   "outputs": [],
   "source": [
    "def get_flatten_images(images):\n",
    "    images_flatten = []\n",
    "    for img in images:\n",
    "        img = cv.cvtColor(img, cv.COLOR_BGR2GRAY)\n",
    "        img = img.flatten()\n",
    "        images_flatten.append(img)\n",
    "    images_flatten = np.array(images_flatten)\n",
    "    return images_flatten"
   ]
  },
  {
   "cell_type": "code",
   "execution_count": 11,
   "id": "880e5051",
   "metadata": {
    "ExecuteTime": {
     "end_time": "2023-11-22T07:27:27.488826Z",
     "start_time": "2023-11-22T07:27:27.460782Z"
    }
   },
   "outputs": [],
   "source": [
    "def get_gray_histogram(images):\n",
    "    gray_histograms = []\n",
    "    for img in images:\n",
    "        img = cv.cvtColor(img, cv.COLOR_BGR2GRAY)\n",
    "        hist = cv.calcHist([img], [0], None, [256], [0, 256])\n",
    "        gray_histograms.append(hist.flatten())\n",
    "    gray_histograms = np.array(gray_histograms)\n",
    "    return gray_histograms"
   ]
  },
  {
   "cell_type": "code",
   "execution_count": 12,
   "id": "440eb474",
   "metadata": {
    "ExecuteTime": {
     "end_time": "2023-11-22T07:27:27.488874Z",
     "start_time": "2023-11-22T07:27:27.463480Z"
    }
   },
   "outputs": [],
   "source": [
    "def get_rgb_histogram(images):\n",
    "    color_histograms = []\n",
    "    for img in images:\n",
    "        hist = cv.calcHist([img], [0, 1, 2], None, [8, 8, 8], [0, 256, 0, 256, 0, 256])\n",
    "        color_histograms.append(hist.flatten())\n",
    "    color_histograms = np.array(color_histograms)\n",
    "    return color_histograms"
   ]
  },
  {
   "cell_type": "code",
   "execution_count": 55,
   "id": "7c34f104",
   "metadata": {
    "ExecuteTime": {
     "end_time": "2023-11-22T07:29:54.207049Z",
     "start_time": "2023-11-22T07:29:54.196740Z"
    }
   },
   "outputs": [],
   "source": [
    "def get_hog_descriptors(images):\n",
    "    descriptors = []\n",
    "    for img in images:\n",
    "        img = cv.cvtColor(img, cv.COLOR_BGR2GRAY)\n",
    "        features = hog(img, pixels_per_cell=(10, 10), orientations=9, cells_per_block=(2, 2), block_norm='L2-Hys',\n",
    "                       feature_vector=True)\n",
    "        descriptors.append(features)\n",
    "    descriptors = np.array(descriptors)\n",
    "    return descriptors"
   ]
  },
  {
   "cell_type": "markdown",
   "id": "96bcc185",
   "metadata": {},
   "source": [
    "### Calcularea descriptorilor pentru imaginile de antrenare si testare"
   ]
  },
  {
   "cell_type": "code",
   "execution_count": 56,
   "id": "6833614c",
   "metadata": {
    "ExecuteTime": {
     "end_time": "2023-11-22T07:29:54.546137Z",
     "start_time": "2023-11-22T07:29:54.538565Z"
    }
   },
   "outputs": [],
   "source": [
    "train_images_flatten = get_flatten_images(train_images)\n",
    "test_images_flatten = get_flatten_images(test_images)"
   ]
  },
  {
   "cell_type": "code",
   "execution_count": 57,
   "id": "2eaae100",
   "metadata": {
    "ExecuteTime": {
     "end_time": "2023-11-22T07:29:54.748414Z",
     "start_time": "2023-11-22T07:29:54.728885Z"
    }
   },
   "outputs": [],
   "source": [
    "train_images_gray_hist = get_gray_histogram(train_images)\n",
    "test_images_gray_hist = get_gray_histogram(test_images)"
   ]
  },
  {
   "cell_type": "code",
   "execution_count": 58,
   "id": "1c4dbbc7",
   "metadata": {
    "ExecuteTime": {
     "end_time": "2023-11-22T07:29:54.926542Z",
     "start_time": "2023-11-22T07:29:54.899350Z"
    }
   },
   "outputs": [],
   "source": [
    "train_images_color_hist = get_rgb_histogram(train_images)\n",
    "test_images_color_hist = get_rgb_histogram(test_images)"
   ]
  },
  {
   "cell_type": "code",
   "execution_count": 59,
   "id": "f9609822",
   "metadata": {
    "ExecuteTime": {
     "end_time": "2023-11-22T07:29:56.346124Z",
     "start_time": "2023-11-22T07:29:55.079312Z"
    }
   },
   "outputs": [],
   "source": [
    "train_images_hog = get_hog_descriptors(train_images)\n",
    "test_images_hog = get_hog_descriptors(test_images)"
   ]
  },
  {
   "cell_type": "markdown",
   "id": "d1e36d83",
   "metadata": {},
   "source": [
    "### Antrenarea unui SVM liniar cu diferiti descriptori"
   ]
  },
  {
   "cell_type": "code",
   "execution_count": 60,
   "id": "61929e7b",
   "metadata": {
    "ExecuteTime": {
     "end_time": "2023-11-22T07:29:57.324459Z",
     "start_time": "2023-11-22T07:29:56.347785Z"
    }
   },
   "outputs": [
    {
     "name": "stdout",
     "output_type": "stream",
     "text": [
      "Antrenam un clasificator pentru c=0.000010\n",
      "0.6595744680851063\n",
      "Antrenam un clasificator pentru c=0.000100\n",
      "0.8617021276595744\n",
      "Antrenam un clasificator pentru c=0.001000\n"
     ]
    },
    {
     "name": "stderr",
     "output_type": "stream",
     "text": [
      "/opt/homebrew/Caskroom/miniconda/base/envs/cava/lib/python3.11/site-packages/sklearn/svm/_classes.py:32: FutureWarning: The default value of `dual` will change from `True` to `'auto'` in 1.5. Set the value of `dual` explicitly to suppress the warning.\n",
      "  warnings.warn(\n",
      "/opt/homebrew/Caskroom/miniconda/base/envs/cava/lib/python3.11/site-packages/sklearn/svm/_classes.py:32: FutureWarning: The default value of `dual` will change from `True` to `'auto'` in 1.5. Set the value of `dual` explicitly to suppress the warning.\n",
      "  warnings.warn(\n",
      "/opt/homebrew/Caskroom/miniconda/base/envs/cava/lib/python3.11/site-packages/sklearn/svm/_classes.py:32: FutureWarning: The default value of `dual` will change from `True` to `'auto'` in 1.5. Set the value of `dual` explicitly to suppress the warning.\n",
      "  warnings.warn(\n"
     ]
    },
    {
     "name": "stdout",
     "output_type": "stream",
     "text": [
      "1.0\n",
      "Antrenam un clasificator pentru c=0.010000\n",
      "1.0\n",
      "Antrenam un clasificator pentru c=0.100000\n"
     ]
    },
    {
     "name": "stderr",
     "output_type": "stream",
     "text": [
      "/opt/homebrew/Caskroom/miniconda/base/envs/cava/lib/python3.11/site-packages/sklearn/svm/_classes.py:32: FutureWarning: The default value of `dual` will change from `True` to `'auto'` in 1.5. Set the value of `dual` explicitly to suppress the warning.\n",
      "  warnings.warn(\n",
      "/opt/homebrew/Caskroom/miniconda/base/envs/cava/lib/python3.11/site-packages/sklearn/svm/_classes.py:32: FutureWarning: The default value of `dual` will change from `True` to `'auto'` in 1.5. Set the value of `dual` explicitly to suppress the warning.\n",
      "  warnings.warn(\n"
     ]
    },
    {
     "name": "stdout",
     "output_type": "stream",
     "text": [
      "1.0\n",
      "Antrenam un clasificator pentru c=1.000000\n"
     ]
    },
    {
     "name": "stderr",
     "output_type": "stream",
     "text": [
      "/opt/homebrew/Caskroom/miniconda/base/envs/cava/lib/python3.11/site-packages/sklearn/svm/_classes.py:32: FutureWarning: The default value of `dual` will change from `True` to `'auto'` in 1.5. Set the value of `dual` explicitly to suppress the warning.\n",
      "  warnings.warn(\n"
     ]
    },
    {
     "name": "stdout",
     "output_type": "stream",
     "text": [
      "1.0\n"
     ]
    }
   ],
   "source": [
    "best_accuracy = 0\n",
    "best_c = 0\n",
    "best_model2 = None\n",
    "Cs = [10 ** -5, 10 ** -4, 10 ** -3, 10 ** -2, 10 ** -1, 10 ** 0]\n",
    "for c in Cs:\n",
    "    print('Antrenam un clasificator pentru c=%f' % c)\n",
    "    model = LinearSVC(C=c)\n",
    "    model.fit(train_images_hog, train_labels)\n",
    "    acc = model.score(train_images_hog, train_labels)\n",
    "    print(acc)\n",
    "    if acc > best_accuracy:\n",
    "        best_accuracy = acc\n",
    "        best_c = c\n",
    "        best_model2 = deepcopy(model)\n",
    "\n",
    "# print('Performanta clasificatorului optim pt c = %f' % best_c)"
   ]
  },
  {
   "cell_type": "code",
   "execution_count": 61,
   "id": "0e02def9",
   "metadata": {
    "ExecuteTime": {
     "end_time": "2023-11-22T07:29:57.379593Z",
     "start_time": "2023-11-22T07:29:57.323619Z"
    }
   },
   "outputs": [
    {
     "name": "stdout",
     "output_type": "stream",
     "text": [
      "0.9\n"
     ]
    }
   ],
   "source": [
    "predicted_labels = best_model2.predict(test_images_hog)\n",
    "print(accuracy_score(test_labels, predicted_labels))"
   ]
  },
  {
   "cell_type": "code",
   "execution_count": null,
   "outputs": [],
   "source": [],
   "metadata": {
    "collapsed": false
   },
   "id": "5dde4d9a74b9839b"
  }
 ],
 "metadata": {
  "kernelspec": {
   "display_name": "Python 3 (ipykernel)",
   "language": "python",
   "name": "python3"
  },
  "language_info": {
   "codemirror_mode": {
    "name": "ipython",
    "version": 3
   },
   "file_extension": ".py",
   "mimetype": "text/x-python",
   "name": "python",
   "nbconvert_exporter": "python",
   "pygments_lexer": "ipython3",
   "version": "3.8.11"
  }
 },
 "nbformat": 4,
 "nbformat_minor": 5
}
