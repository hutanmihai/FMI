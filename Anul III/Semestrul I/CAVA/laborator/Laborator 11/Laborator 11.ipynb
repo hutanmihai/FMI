{
 "cells": [
  {
   "cell_type": "code",
   "execution_count": null,
   "id": "a69903de",
   "metadata": {},
   "outputs": [],
   "source": [
    "import numpy as np\n",
    "from sklearn.svm import SVC, LinearSVC\n",
    "import glob\n",
    "import cv2 as cv\n",
    "import pdb\n",
    "from copy import deepcopy\n",
    "import torch\n",
    "import torch.nn as nn\n",
    "import torchvision.models as models\n",
    "import torchvision.transforms as transforms\n",
    "from torch.autograd import Variable\n",
    "from PIL import Image\n",
    "import os"
   ]
  },
  {
   "cell_type": "code",
   "execution_count": null,
   "id": "aec5f6c9",
   "metadata": {},
   "outputs": [],
   "source": [
    "def get_positive_descriptors_resnet():\n",
    "    images_path = os.path.join('data/exemplePozitive', '*.jpg')\n",
    "    files = glob.glob(images_path)\n",
    "    num_images = len(files)\n",
    "    positive_descriptors = []\n",
    "    model = models.resnet18(pretrained=True)\n",
    "    layer = model._modules.get('avgpool')\n",
    "    model.eval()\n",
    "    print('Calculam descriptorii pt %d imagini pozitive...' % num_images)\n",
    "    scaler = transforms.Resize((224, 224))\n",
    "    normalize = transforms.Normalize(mean=[0.485, 0.456, 0.406],\n",
    "                                     std=[0.229, 0.224, 0.225])\n",
    "    to_tensor = transforms.ToTensor()\n",
    "    for i in range(num_images):\n",
    "        print('Procesam exemplul pozitiv numarul %d...' % i)\n",
    "        img = cv.imread(files[i])\n",
    "        img = Image.fromarray(img)\n",
    "        t_img = Variable(normalize(to_tensor(scaler(img))).unsqueeze(0))\n",
    "        my_embedding = torch.zeros(512)\n",
    "        def copy_data(m, i, o):\n",
    "            my_embedding.copy_(o.data.reshape(o.data.size(1)))\n",
    "        h = layer.register_forward_hook(copy_data)\n",
    "        model(t_img)\n",
    "        h.remove()\n",
    "        my_embedding = my_embedding.numpy()\n",
    "        positive_descriptors.append(my_embedding)\n",
    "    positive_descriptors = np.array(positive_descriptors)\n",
    "    return positive_descriptors"
   ]
  },
  {
   "cell_type": "code",
   "execution_count": null,
   "id": "2468e2da",
   "metadata": {},
   "outputs": [],
   "source": [
    "def get_negative_descriptors_resnet():\n",
    "    images_path = os.path.join('data/exempleNegative', '*.jpg')\n",
    "    files = glob.glob(images_path)\n",
    "    num_images = len(files)\n",
    "    negative_descriptors = []\n",
    "    model = models.resnet18(pretrained=True)\n",
    "    layer = model._modules.get('avgpool')\n",
    "    model.eval()\n",
    "    print('Calculam descriptorii pt %d imagini pozitive...' % num_images)\n",
    "    scaler = transforms.Resize((224, 224))\n",
    "    normalize = transforms.Normalize(mean=[0.485, 0.456, 0.406],\n",
    "                                     std=[0.229, 0.224, 0.225])\n",
    "    to_tensor = transforms.ToTensor()\n",
    "    for i in range(num_images):\n",
    "        print('Procesam exemplul pozitiv numarul %d...' % i)\n",
    "        img = cv.imread(files[i])\n",
    "        num_rows = img.shape[0]\n",
    "        num_cols = img.shape[1]\n",
    "        x = np.random.randint(low=0, high=num_cols - 36, size=35)\n",
    "        y = np.random.randint(low=0, high=num_rows - 36, size=35)\n",
    "        for idx in range(len(y)):\n",
    "                patch = img[y[idx]: y[idx] + 36, x[idx]: x[idx] + 36]\n",
    "                patch = Image.fromarray(patch)\n",
    "                t_img = Variable(normalize(to_tensor(scaler(patch))).unsqueeze(0))\n",
    "                my_embedding = torch.zeros(512)\n",
    "                def copy_data(m, i, o):\n",
    "                    my_embedding.copy_(o.data.reshape(o.data.size(1)))\n",
    "                h = layer.register_forward_hook(copy_data)\n",
    "                model(t_img)\n",
    "                h.remove()\n",
    "                my_embedding = my_embedding.numpy()\n",
    "                negative_descriptors.append(my_embedding)\n",
    "    negative_descriptors = np.array(negative_descriptors)\n",
    "    return negative_descriptors"
   ]
  },
  {
   "cell_type": "code",
   "execution_count": null,
   "id": "d189af7d",
   "metadata": {},
   "outputs": [],
   "source": [
    "positive_features = get_positive_descriptors_resnet()"
   ]
  },
  {
   "cell_type": "code",
   "execution_count": null,
   "id": "e84ca6e5",
   "metadata": {},
   "outputs": [],
   "source": [
    "negative_features = get_negative_descriptors_resnet()"
   ]
  },
  {
   "cell_type": "code",
   "execution_count": null,
   "id": "f97598a2",
   "metadata": {},
   "outputs": [],
   "source": [
    "print(positive_features.shape)\n",
    "print(negative_features.shape)"
   ]
  },
  {
   "cell_type": "code",
   "execution_count": null,
   "id": "9deb1efa",
   "metadata": {},
   "outputs": [],
   "source": [
    "training_examples = np.concatenate((np.squeeze(positive_features), np.squeeze(negative_features)), axis=0)\n",
    "train_labels = np.concatenate((np.ones(positive_features.shape[0]), np.zeros(negative_features.shape[0])))"
   ]
  },
  {
   "cell_type": "code",
   "execution_count": null,
   "id": "15c266ca",
   "metadata": {},
   "outputs": [],
   "source": [
    "best_accuracy = 0\n",
    "best_c = 0\n",
    "best_model = None\n",
    "Cs = [10 ** -5, 10 ** -4,  10 ** -3,  10 ** -2, 10 ** -1, 10 ** 0]\n",
    "for c in Cs:\n",
    "    print('Antrenam un clasificator pentru c=%f' % c)\n",
    "    model = LinearSVC(C=c)\n",
    "    model.fit(training_examples, train_labels)\n",
    "    acc = model.score(training_examples, train_labels)\n",
    "    print(acc)\n",
    "    if acc > best_accuracy:\n",
    "        best_accuracy = acc\n",
    "        best_c = c\n",
    "        best_model = deepcopy(model)\n",
    "\n",
    "print('Performanta clasificatorului optim pt c = %f' % best_c)"
   ]
  },
  {
   "cell_type": "code",
   "execution_count": null,
   "id": "b9bd40e3",
   "metadata": {},
   "outputs": [],
   "source": [
    "img_test_negative=os.listdir('dateTest_negative')"
   ]
  },
  {
   "cell_type": "code",
   "execution_count": null,
   "id": "f49afbe3",
   "metadata": {},
   "outputs": [],
   "source": [
    "model = models.resnet18(pretrained=True)\n",
    "layer = model._modules.get('avgpool')\n",
    "model.eval()\n",
    "scaler = transforms.Resize((224, 224))\n",
    "normalize = transforms.Normalize(mean=[0.485, 0.456, 0.406],\n",
    "                                 std=[0.229, 0.224, 0.225])\n",
    "to_tensor = transforms.ToTensor()\n",
    "for img in img_test_negative:\n",
    "    img_test=cv.imread('dateTest_negative/'+img)\n",
    "    img_test= Image.fromarray(img_test)\n",
    "    t_img = Variable(normalize(to_tensor(scaler(img_test))).unsqueeze(0))\n",
    "    my_embedding = torch.zeros(512)\n",
    "    def copy_data(m, i, o):\n",
    "        my_embedding.copy_(o.data.reshape(o.data.size(1)))\n",
    "\n",
    "    h = layer.register_forward_hook(copy_data)\n",
    "    model(t_img)\n",
    "    h.remove()\n",
    "    descr = my_embedding.numpy()\n",
    "    print(best_model.predict([descr]))"
   ]
  },
  {
   "cell_type": "code",
   "execution_count": null,
   "id": "ee78720e",
   "metadata": {},
   "outputs": [],
   "source": [
    "img_test_pozitive=os.listdir('dateTest_pozitive')\n",
    "model = models.resnet18(pretrained=True)\n",
    "layer = model._modules.get('avgpool')\n",
    "model.eval()\n",
    "scaler = transforms.Resize((224, 224))\n",
    "normalize = transforms.Normalize(mean=[0.485, 0.456, 0.406],\n",
    "                                 std=[0.229, 0.224, 0.225])\n",
    "to_tensor = transforms.ToTensor()\n",
    "for img in img_test_pozitive:\n",
    "    img_test=cv.imread('dateTest_pozitive/'+img)\n",
    "    img_test= Image.fromarray(img_test)\n",
    "    t_img = Variable(normalize(to_tensor(scaler(img_test))).unsqueeze(0))\n",
    "    my_embedding = torch.zeros(512)\n",
    "    def copy_data(m, i, o):\n",
    "        my_embedding.copy_(o.data.reshape(o.data.size(1)))\n",
    "\n",
    "    h = layer.register_forward_hook(copy_data)\n",
    "    model(t_img)\n",
    "    h.remove()\n",
    "    descr = my_embedding.numpy()\n",
    "    print(best_model.predict([descr]))"
   ]
  },
  {
   "cell_type": "code",
   "execution_count": null,
   "id": "fd43fab6",
   "metadata": {},
   "outputs": [],
   "source": []
  }
 ],
 "metadata": {
  "kernelspec": {
   "display_name": "Python 3 (ipykernel)",
   "language": "python",
   "name": "python3"
  },
  "language_info": {
   "codemirror_mode": {
    "name": "ipython",
    "version": 3
   },
   "file_extension": ".py",
   "mimetype": "text/x-python",
   "name": "python",
   "nbconvert_exporter": "python",
   "pygments_lexer": "ipython3",
   "version": "3.8.11"
  }
 },
 "nbformat": 4,
 "nbformat_minor": 5
}
