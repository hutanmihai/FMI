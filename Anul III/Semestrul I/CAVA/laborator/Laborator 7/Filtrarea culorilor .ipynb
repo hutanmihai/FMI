{
 "cells": [
  {
   "cell_type": "code",
   "execution_count": 1,
   "id": "3b973af6",
   "metadata": {
    "ExecuteTime": {
     "end_time": "2023-11-17T14:43:57.179798Z",
     "start_time": "2023-11-17T14:43:56.866943Z"
    }
   },
   "outputs": [],
   "source": [
    "import numpy as np\n",
    "import cv2 as cv\n",
    "import os\n",
    "import glob\n",
    "import matplotlib.pyplot as plt\n",
    "from numpy.random import uniform\n",
    "import pdb"
   ]
  },
  {
   "cell_type": "code",
   "execution_count": 2,
   "id": "e2588322",
   "metadata": {
    "ExecuteTime": {
     "end_time": "2023-11-17T14:43:57.185293Z",
     "start_time": "2023-11-17T14:43:57.182596Z"
    }
   },
   "outputs": [],
   "source": [
    "def find_color_values_using_trackbar(frame):\n",
    "    frame_hsv = cv.cvtColor(frame, cv.COLOR_BGR2HSV)\n",
    "\n",
    "    def nothing(x):\n",
    "        pass\n",
    "\n",
    "    cv.namedWindow(\"Trackbar\")\n",
    "    cv.createTrackbar(\"LH\", \"Trackbar\", 0, 255, nothing)\n",
    "    cv.createTrackbar(\"LS\", \"Trackbar\", 0, 255, nothing)\n",
    "    cv.createTrackbar(\"LV\", \"Trackbar\", 0, 255, nothing)\n",
    "    cv.createTrackbar(\"UH\", \"Trackbar\", 255, 255, nothing)\n",
    "    cv.createTrackbar(\"US\", \"Trackbar\", 255, 255, nothing)\n",
    "    cv.createTrackbar(\"UV\", \"Trackbar\", 255, 255, nothing)\n",
    "\n",
    "    while True:\n",
    "\n",
    "        l_h = cv.getTrackbarPos(\"LH\", \"Trackbar\")\n",
    "        l_s = cv.getTrackbarPos(\"LS\", \"Trackbar\")\n",
    "        l_v = cv.getTrackbarPos(\"LV\", \"Trackbar\")\n",
    "        u_h = cv.getTrackbarPos(\"UH\", \"Trackbar\")\n",
    "        u_s = cv.getTrackbarPos(\"US\", \"Trackbar\")\n",
    "        u_v = cv.getTrackbarPos(\"UV\", \"Trackbar\")\n",
    "\n",
    "        l = np.array([l_h, l_s, l_v])\n",
    "        u = np.array([u_h, u_s, u_v])\n",
    "        mask_table_hsv = cv.inRange(frame_hsv, l, u)\n",
    "\n",
    "        res = cv.bitwise_and(frame, frame, mask=mask_table_hsv)\n",
    "        cv.imshow(\"Frame\", frame)\n",
    "        cv.imshow(\"Mask\", mask_table_hsv)\n",
    "        cv.imshow(\"Res\", res)\n",
    "\n",
    "        if cv.waitKey(25) & 0xFF == ord('q'):\n",
    "            break\n",
    "    cv.destroyAllWindows()"
   ]
  },
  {
   "cell_type": "code",
   "execution_count": 3,
   "id": "ab73d97b",
   "metadata": {
    "ExecuteTime": {
     "end_time": "2023-11-17T14:49:42.292973Z",
     "start_time": "2023-11-17T14:43:57.184941Z"
    }
   },
   "outputs": [
    {
     "ename": "KeyboardInterrupt",
     "evalue": "",
     "output_type": "error",
     "traceback": [
      "\u001B[0;31m---------------------------------------------------------------------------\u001B[0m",
      "\u001B[0;31mKeyboardInterrupt\u001B[0m                         Traceback (most recent call last)",
      "Cell \u001B[0;32mIn[3], line 2\u001B[0m\n\u001B[1;32m      1\u001B[0m img \u001B[38;5;241m=\u001B[39m cv\u001B[38;5;241m.\u001B[39mimread(\u001B[38;5;124m'\u001B[39m\u001B[38;5;124m./test.jpg\u001B[39m\u001B[38;5;124m'\u001B[39m)\n\u001B[0;32m----> 2\u001B[0m \u001B[43mfind_color_values_using_trackbar\u001B[49m\u001B[43m(\u001B[49m\u001B[43mimg\u001B[49m\u001B[43m)\u001B[49m\n",
      "Cell \u001B[0;32mIn[2], line 33\u001B[0m, in \u001B[0;36mfind_color_values_using_trackbar\u001B[0;34m(frame)\u001B[0m\n\u001B[1;32m     30\u001B[0m     cv\u001B[38;5;241m.\u001B[39mimshow(\u001B[38;5;124m\"\u001B[39m\u001B[38;5;124mMask\u001B[39m\u001B[38;5;124m\"\u001B[39m, mask_table_hsv)\n\u001B[1;32m     31\u001B[0m     cv\u001B[38;5;241m.\u001B[39mimshow(\u001B[38;5;124m\"\u001B[39m\u001B[38;5;124mRes\u001B[39m\u001B[38;5;124m\"\u001B[39m, res)\n\u001B[0;32m---> 33\u001B[0m     \u001B[38;5;28;01mif\u001B[39;00m \u001B[43mcv\u001B[49m\u001B[38;5;241;43m.\u001B[39;49m\u001B[43mwaitKey\u001B[49m\u001B[43m(\u001B[49m\u001B[38;5;241;43m25\u001B[39;49m\u001B[43m)\u001B[49m \u001B[38;5;241m&\u001B[39m \u001B[38;5;241m0xFF\u001B[39m \u001B[38;5;241m==\u001B[39m \u001B[38;5;28mord\u001B[39m(\u001B[38;5;124m'\u001B[39m\u001B[38;5;124mq\u001B[39m\u001B[38;5;124m'\u001B[39m):\n\u001B[1;32m     34\u001B[0m         \u001B[38;5;28;01mbreak\u001B[39;00m\n\u001B[1;32m     35\u001B[0m cv\u001B[38;5;241m.\u001B[39mdestroyAllWindows()\n",
      "\u001B[0;31mKeyboardInterrupt\u001B[0m: "
     ]
    }
   ],
   "source": [
    "img = cv.imread('./test.jpg')\n",
    "find_color_values_using_trackbar(img)"
   ]
  },
  {
   "cell_type": "code",
   "execution_count": null,
   "id": "a91bbc1d",
   "metadata": {
    "ExecuteTime": {
     "end_time": "2023-11-17T14:49:42.296340Z",
     "start_time": "2023-11-17T14:49:42.294693Z"
    }
   },
   "outputs": [],
   "source": [
    "low_yellow = (15, 105, 105)\n",
    "high_yellow = (90, 255, 255)\n",
    "img_hsv = cv.cvtColor(img, cv.COLOR_BGR2HSV)\n",
    "mask_yellow_hsv = cv.inRange(img_hsv, low_yellow, high_yellow)\n",
    "cv.imshow('img_initial', img)\n",
    "cv.imshow('mask_yellow_hsv', mask_yellow_hsv)\n",
    "cv.waitKey(0)\n",
    "cv.destroyAllWindows()"
   ]
  }
 ],
 "metadata": {
  "kernelspec": {
   "display_name": "Python 3 (ipykernel)",
   "language": "python",
   "name": "python3"
  },
  "language_info": {
   "codemirror_mode": {
    "name": "ipython",
    "version": 3
   },
   "file_extension": ".py",
   "mimetype": "text/x-python",
   "name": "python",
   "nbconvert_exporter": "python",
   "pygments_lexer": "ipython3",
   "version": "3.9.16"
  }
 },
 "nbformat": 4,
 "nbformat_minor": 5
}
