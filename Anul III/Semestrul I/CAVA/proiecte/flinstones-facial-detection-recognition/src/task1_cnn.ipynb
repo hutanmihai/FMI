{
 "cells": [
  {
   "cell_type": "markdown",
   "source": [
    "# Imports"
   ],
   "metadata": {
    "collapsed": false
   },
   "id": "9e447e62548b1d8d"
  },
  {
   "cell_type": "code",
   "outputs": [],
   "source": [
    "import time\n",
    "\n",
    "import torch\n",
    "import torch.nn as nn\n",
    "from torch.nn import Sequential\n",
    "from torch.optim import Adam\n",
    "from torchvision.datasets import ImageFolder\n",
    "from torch.utils.data import DataLoader\n",
    "from torchvision import transforms\n",
    "\n",
    "from src.constants import TRAIN_PATCHES_PATH, VALIDATION_PATCHES_PATH, MODEL_PATH\n",
    "import matplotlib.pyplot as plt\n",
    "\n",
    "from src.utils.helpers import check_if_dirs_exist"
   ],
   "metadata": {
    "collapsed": false
   },
   "id": "14f18fbf15fe3e65",
   "execution_count": null
  },
  {
   "cell_type": "markdown",
   "source": [
    "# Constants"
   ],
   "metadata": {
    "collapsed": false
   },
   "id": "d386c3900068456c"
  },
  {
   "cell_type": "code",
   "outputs": [],
   "source": [
    "from pathlib import Path\n",
    "\n",
    "TRAIN_PATCHES_PATH = Path(\"../\" + str(TRAIN_PATCHES_PATH))\n",
    "VALIDATION_PATCHES_PATH = Path(\"../\" + str(VALIDATION_PATCHES_PATH))\n",
    "MODEL_PATH = Path(\"../\" + str(MODEL_PATH))\n",
    "\n",
    "INIT_LR = 1e-4\n",
    "BATCH_SIZE = 64\n",
    "EPOCHS = 10"
   ],
   "metadata": {
    "collapsed": false
   },
   "id": "314d8b8f1e7b41d7",
   "execution_count": null
  },
  {
   "cell_type": "markdown",
   "source": [
    "# Initializations"
   ],
   "metadata": {
    "collapsed": false
   },
   "id": "b470ec5a28b71279"
  },
  {
   "cell_type": "code",
   "outputs": [],
   "source": [
    "device = torch.device(\"cuda\" if torch.cuda.is_available() else \"cpu\")"
   ],
   "metadata": {
    "collapsed": false
   },
   "id": "d5fc639de296706e",
   "execution_count": null
  },
  {
   "cell_type": "markdown",
   "source": [
    "# Data loading"
   ],
   "metadata": {
    "collapsed": false
   },
   "id": "18edc7972ad9540a"
  },
  {
   "cell_type": "code",
   "outputs": [],
   "source": [
    "transform = transforms.Compose(\n",
    "    [\n",
    "        transforms.Grayscale(),  # Convert images to grayscale\n",
    "        transforms.ToTensor(),  # Convert to tensor\n",
    "    ]\n",
    ")\n",
    "trainImages = ImageFolder(TRAIN_PATCHES_PATH, transform=transform)\n",
    "valImages = ImageFolder(VALIDATION_PATCHES_PATH, transform=transform)\n",
    "trainDataLoader = DataLoader(trainImages, shuffle=True, batch_size=BATCH_SIZE)\n",
    "valDataLoader = DataLoader(valImages, batch_size=BATCH_SIZE)\n",
    "\n",
    "print(\"[INFO] number of training images: {}\".format(len(trainImages)))\n",
    "print(\"[INFO] number of validation images: {}\".format(len(valImages)))"
   ],
   "metadata": {
    "collapsed": false
   },
   "id": "b97721b88f5e22c9",
   "execution_count": null
  },
  {
   "cell_type": "markdown",
   "source": [
    "# Visualizing the data"
   ],
   "metadata": {
    "collapsed": false
   },
   "id": "31d29d349665f864"
  },
  {
   "cell_type": "code",
   "outputs": [],
   "source": [
    "plot = plt.figure(figsize=(10, 10))\n",
    "positive_found = False\n",
    "negative_found = False\n",
    "\n",
    "for x, y in trainDataLoader:\n",
    "    for i in range(BATCH_SIZE):\n",
    "        if y[i] == 0 and not negative_found:\n",
    "            negative_found = True\n",
    "            plot.add_subplot(1, 2, 1)\n",
    "            plt.imshow(x[i].permute(1, 2, 0), cmap=\"gray\")\n",
    "            plt.title(y[i])\n",
    "            plt.axis(\"off\")\n",
    "        elif y[i] == 1 and not positive_found:\n",
    "            positive_found = True\n",
    "            plot.add_subplot(1, 2, 2)\n",
    "            plt.imshow(x[i].permute(1, 2, 0), cmap=\"gray\")\n",
    "            plt.title(y[i])\n",
    "            plt.axis(\"off\")\n",
    "    break"
   ],
   "metadata": {
    "collapsed": false
   },
   "id": "a515e7b7f5d726aa",
   "execution_count": null
  },
  {
   "cell_type": "markdown",
   "source": [
    "# Model"
   ],
   "metadata": {
    "collapsed": false
   },
   "id": "bd57033d885c0f90"
  },
  {
   "cell_type": "code",
   "outputs": [],
   "source": [
    "model = Sequential(\n",
    "    # Input: 1x40x40\n",
    "    nn.Conv2d(in_channels=1, out_channels=16, kernel_size=3, padding=1),\n",
    "    nn.ReLU(),\n",
    "    nn.MaxPool2d(2, 2),\n",
    "    nn.Conv2d(in_channels=16, out_channels=32, kernel_size=3, padding=1),\n",
    "    nn.ReLU(),\n",
    "    nn.MaxPool2d(2, 2),\n",
    "    nn.Conv2d(in_channels=32, out_channels=64, kernel_size=3, padding=1),\n",
    "    nn.ReLU(),\n",
    "    nn.MaxPool2d(2, 2),\n",
    "    nn.Conv2d(in_channels=64, out_channels=64, kernel_size=3, padding=1),\n",
    "    nn.ReLU(),\n",
    "    nn.MaxPool2d(2, 2),\n",
    "    nn.Flatten(),\n",
    "    nn.Dropout(0.25),\n",
    "    nn.Linear(256, 256),\n",
    "    nn.ReLU(),\n",
    "    nn.Dropout(0.25),\n",
    "    nn.Linear(256, 1),\n",
    "    nn.Sigmoid(),\n",
    ").to(device)"
   ],
   "metadata": {
    "collapsed": false
   },
   "id": "cd5f080d0c866206",
   "execution_count": null
  },
  {
   "cell_type": "markdown",
   "source": [
    "# Optimizer and loss function"
   ],
   "metadata": {
    "collapsed": false
   },
   "id": "8bb1a23f254ccc54"
  },
  {
   "cell_type": "code",
   "outputs": [],
   "source": [
    "optimizer = Adam(model.parameters(), lr=INIT_LR)\n",
    "loss_function = nn.BCELoss()\n",
    "\n",
    "trainSteps = len(trainDataLoader.dataset) // BATCH_SIZE\n",
    "valSteps = len(valDataLoader.dataset) // BATCH_SIZE"
   ],
   "metadata": {
    "collapsed": false
   },
   "id": "947463307e6243ab",
   "execution_count": null
  },
  {
   "cell_type": "markdown",
   "source": [
    "# Training"
   ],
   "metadata": {
    "collapsed": false
   },
   "id": "84047c349e13df52"
  },
  {
   "cell_type": "code",
   "outputs": [],
   "source": [
    "print(\"[INFO] training the network...\")\n",
    "startTime = time.time()\n",
    "\n",
    "for e in range(EPOCHS):\n",
    "    model.train()\n",
    "    totalTrainLoss = 0\n",
    "    trainCorrect = 0\n",
    "\n",
    "    for x, y in trainDataLoader:\n",
    "        optimizer.zero_grad()\n",
    "        (x, y) = (x.to(device), y.to(device))\n",
    "        pred = model(x)\n",
    "        y = y.view(-1, 1).float()\n",
    "        y = y.to(device)\n",
    "        loss = loss_function(pred, y)\n",
    "        loss.backward()\n",
    "        optimizer.step()\n",
    "        totalTrainLoss += loss.item()\n",
    "\n",
    "        pred_binary = (pred > 0.5).float()\n",
    "        trainCorrect += (pred_binary == y).sum().item()\n",
    "\n",
    "    avgTrainLoss = totalTrainLoss / trainSteps\n",
    "    trainAccuracy = trainCorrect / len(trainDataLoader.dataset)\n",
    "\n",
    "    print(\"[INFO] EPOCH: {}/{}\".format(e + 1, EPOCHS))\n",
    "    print(\"Train loss: {:.6f}, Train accuracy: {:.4f}\".format(avgTrainLoss, trainAccuracy))\n",
    "\n",
    "endTime = time.time()\n",
    "print(\"[INFO] total time taken to train the model: {:.2f}s\".format(endTime - startTime))"
   ],
   "metadata": {
    "collapsed": false
   },
   "id": "9c9ad05f30f7c787",
   "execution_count": null
  },
  {
   "cell_type": "markdown",
   "source": [
    "# Test the model on validation data"
   ],
   "metadata": {
    "collapsed": false
   },
   "id": "5eb659edc5066888"
  },
  {
   "cell_type": "code",
   "outputs": [],
   "source": [
    "model.eval()\n",
    "valCorrect = 0\n",
    "\n",
    "with torch.no_grad():\n",
    "    for x, y in valDataLoader:\n",
    "        (x, y) = (x.to(device), y.to(device))\n",
    "        pred = model(x)\n",
    "        y = y.view(-1, 1).float()\n",
    "        pred_binary = (pred > 0.5).float()\n",
    "        valCorrect += (pred_binary == y).sum().item()\n",
    "\n",
    "valAccuracy = valCorrect / len(valDataLoader.dataset)\n",
    "\n",
    "print(\"Validation accuracy: {:.4f}\".format(valAccuracy))"
   ],
   "metadata": {
    "collapsed": false
   },
   "id": "819c4ef36f20061c",
   "execution_count": null
  },
  {
   "cell_type": "markdown",
   "source": [
    "# Saving the model"
   ],
   "metadata": {
    "collapsed": false
   },
   "id": "5d17197a5e1bd40c"
  },
  {
   "cell_type": "code",
   "outputs": [],
   "source": [
    "check_if_dirs_exist([MODEL_PATH])\n",
    "model.save(str(MODEL_PATH / \"task1_cnn.pth\"))"
   ],
   "metadata": {
    "collapsed": false
   },
   "id": "20fef1bea5632ed5",
   "execution_count": null
  }
 ],
 "metadata": {
  "kernelspec": {
   "display_name": "Python 3",
   "language": "python",
   "name": "python3"
  },
  "language_info": {
   "codemirror_mode": {
    "name": "ipython",
    "version": 2
   },
   "file_extension": ".py",
   "mimetype": "text/x-python",
   "name": "python",
   "nbconvert_exporter": "python",
   "pygments_lexer": "ipython2",
   "version": "2.7.6"
  }
 },
 "nbformat": 4,
 "nbformat_minor": 5
}
